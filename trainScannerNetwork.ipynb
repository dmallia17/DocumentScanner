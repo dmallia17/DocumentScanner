{
 "cells": [
  {
   "cell_type": "markdown",
   "metadata": {},
   "source": [
    "# TrainScannerNetwork.ipynb\n",
    "\n",
    "## Author: Daniel Mallia\n",
    "## Date Begun: 1/17/2020\n",
    "\n",
    "**This Jupyter Notebook contains the process for training a Keras network for Optical Character Recognition (OCR) for use with a document scanner app, on the Chars74K Dataset. See the following link for the dataset:**\n",
    "\n",
    "http://www.ee.surrey.ac.uk/CVSSP/demos/chars74k/"
   ]
  },
  {
   "cell_type": "code",
   "execution_count": 18,
   "metadata": {},
   "outputs": [],
   "source": [
    "# Imports\n",
    "from keras import layers\n",
    "from keras import models\n",
    "from keras.preprocessing.image import ImageDataGenerator\n",
    "import numpy as np\n",
    "from numpy.random import default_rng\n",
    "import os\n",
    "import shutil\n",
    "import math"
   ]
  },
  {
   "cell_type": "markdown",
   "metadata": {},
   "source": [
    "## Organize Data:"
   ]
  },
  {
   "cell_type": "markdown",
   "metadata": {},
   "source": [
    "For now, training will only be done on the \"Fnt\" folder, which contains computer font characters, of 4 different variations. This data comes as a single folder with a directory for each class - thus we must split into train/test file sets before using a validation split on the training data generator.\n",
    "\n",
    "Inspiration from how to handle this in part from here: \n",
    "https://stackoverflow.com/questions/46717742/split-data-directory-into-training-and-test-directory-with-sub-directory-structu\n",
    "\n",
    "and \n",
    "\n",
    "https://stackoverflow.com/questions/8505651/non-repetitive-random-number-in-numpy"
   ]
  },
  {
   "cell_type": "code",
   "execution_count": 17,
   "metadata": {},
   "outputs": [
    {
     "name": "stdout",
     "output_type": "stream",
     "text": [
      "62\n"
     ]
    }
   ],
   "source": [
    "trainDataLocation = '/Users/danielmallia/Documents/TTP/IndependentStudy/Capstone/Data/English/Fnt/'\n",
    "testDataLocation = '/Users/danielmallia/Documents/TTP/IndependentStudy/Capstone/Data/English/FntTest/'\n",
    "\n",
    "# For each sample folder\n",
    "for folder in os.listdir(trainDataLocation):\n",
    "    if(folder == '.DS_Store'): # Ignore .DS_Store files\n",
    "        continue\n",
    "    else: \n",
    "        # Make a matching test folder\n",
    "        testPath = testDataLocation + folder + '/'\n",
    "        os.mkdir(testPath)\n",
    "        \n",
    "        currentFolderPath = trainDataLocation + folder + '/'\n",
    "        FILE_NAME_LIST = os.listdir(currentFolderPath)\n",
    "        numberOfFiles = len(FILE_NAME_LIST)\n",
    "        numRange = np.arange(0, numberOfFiles)\n",
    "        numOfSelections = math.floor(numberOfFiles * .2)\n",
    "        \n",
    "        # Randomly select indices for choosing approximately 20% of the samples\n",
    "        randomNumGen = default_rng()\n",
    "        testSelections = randomNumGen.choice(numRange, size=numOfSelections, replace=False)\n",
    "        \n",
    "        # For each index selected\n",
    "        for index in testSelections:\n",
    "            filename = FILE_NAME_LIST[index]\n",
    "            shutil.move(currentFolderPath + filename, testPath + filename)"
   ]
  },
  {
   "cell_type": "markdown",
   "metadata": {},
   "source": [
    "## Data Preprocessing:"
   ]
  },
  {
   "cell_type": "markdown",
   "metadata": {},
   "source": [
    "**NOT DOING DATA AUGMENTATION BECAUSE OTHERWISE THIS WILL ALSO BE APPLIED TO THE VALIDATION DATA.\n",
    "THIS IS A KNOWN ISSUE WITH KERAS, SEE:**\n",
    "\n",
    "https://stackoverflow.com/questions/53037510/can-flow-from-directory-get-train-and-validation-data-from-the-same-directory-in"
   ]
  },
  {
   "cell_type": "code",
   "execution_count": null,
   "metadata": {},
   "outputs": [],
   "source": [
    "# Initialize generators\n",
    "trainDataGen = ImageDataGenerator(rescale=1./255, validation_split=.2)\n",
    "testDataGen = ImageDataGenerator(rescale=1./255)\n",
    "\n",
    "# Flow from directories\n",
    "\n"
   ]
  },
  {
   "cell_type": "markdown",
   "metadata": {},
   "source": [
    "## Model:"
   ]
  },
  {
   "cell_type": "code",
   "execution_count": null,
   "metadata": {},
   "outputs": [],
   "source": [
    "model = models.Sequential()"
   ]
  }
 ],
 "metadata": {
  "kernelspec": {
   "display_name": "Python [conda env:deeplearning] *",
   "language": "python",
   "name": "conda-env-deeplearning-py"
  },
  "language_info": {
   "codemirror_mode": {
    "name": "ipython",
    "version": 3
   },
   "file_extension": ".py",
   "mimetype": "text/x-python",
   "name": "python",
   "nbconvert_exporter": "python",
   "pygments_lexer": "ipython3",
   "version": "3.7.6"
  }
 },
 "nbformat": 4,
 "nbformat_minor": 2
}
